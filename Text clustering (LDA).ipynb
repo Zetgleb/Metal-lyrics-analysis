{
 "cells": [
  {
   "cell_type": "markdown",
   "metadata": {},
   "source": [
    "In this file we are going use LDA to cluster texts to see if we can define genres based on the clusters."
   ]
  },
  {
   "cell_type": "code",
   "execution_count": 50,
   "metadata": {},
   "outputs": [],
   "source": [
    "import pandas as pd\n",
    "df = pd.read_csv('cleaned.csv', sep='\\t')"
   ]
  },
  {
   "cell_type": "markdown",
   "metadata": {},
   "source": [
    "Because our lyrics column is a list, we need to convert it from a string to a list for the dataframe to work accordingly."
   ]
  },
  {
   "cell_type": "code",
   "execution_count": 51,
   "metadata": {},
   "outputs": [],
   "source": [
    "from ast import literal_eval\n",
    "df.lyrics = df.lyrics.apply(literal_eval)"
   ]
  },
  {
   "cell_type": "markdown",
   "metadata": {},
   "source": [
    "First we convert the lists to string, ie ['this', 'is', 'an', 'example'] into 'this is an example'."
   ]
  },
  {
   "cell_type": "code",
   "execution_count": 52,
   "metadata": {},
   "outputs": [],
   "source": [
    "docs = []\n",
    "for index, row in df.iterrows():\n",
    "    docs.append(' '.join(row['lyrics']))"
   ]
  },
  {
   "cell_type": "markdown",
   "metadata": {},
   "source": [
    "We write it to a text file so that we can train our LDA model."
   ]
  },
  {
   "cell_type": "code",
   "execution_count": 55,
   "metadata": {},
   "outputs": [],
   "source": [
    "path = 'lda_trainer.txt'\n",
    "lda_file = open(path,'w')\n",
    "for line in docs:\n",
    "    lda_file.write(line + '\\n')\n",
    "lda_file.close()"
   ]
  },
  {
   "cell_type": "markdown",
   "metadata": {},
   "source": [
    "Load the text."
   ]
  },
  {
   "cell_type": "code",
   "execution_count": 56,
   "metadata": {},
   "outputs": [],
   "source": [
    "import gensim\n",
    "corpus = gensim.corpora.textcorpus.TextCorpus('lda_trainer.txt')"
   ]
  },
  {
   "cell_type": "markdown",
   "metadata": {},
   "source": [
    "We already know how many models we have and want to see if we can identify the genre by the created topics. Therefore we will assign the num_topics variable to 10:<br>\n",
    "['Folk', 'Indie', 'Electronic', 'Metal', 'Jazz', 'Rock', 'Pop', 'R&B', 'Hip-Hop', 'Country']"
   ]
  },
  {
   "cell_type": "code",
   "execution_count": 57,
   "metadata": {},
   "outputs": [],
   "source": [
    "model = gensim.models.LdaModel(corpus, id2word=corpus.dictionary,\n",
    "                               alpha='auto',\n",
    "                               num_topics=10,\n",
    "                               passes=5)"
   ]
  },
  {
   "cell_type": "markdown",
   "metadata": {},
   "source": [
    "We want to show the top 10 most frequent word in our topics."
   ]
  },
  {
   "cell_type": "code",
   "execution_count": 58,
   "metadata": {},
   "outputs": [
    {
     "name": "stdout",
     "output_type": "stream",
     "text": [
      "0: time away day come life heart world eye live fall\n",
      "1: let like wanna rock danc stop come girl roll beat\n",
      "2: love know want like need feel tell caus thing way\n",
      "3: new peopl citi black war gun white york land brother\n",
      "4: hey dem bye doo vocals nah gal bon yuh mari\n",
      "5: man like got look said big littl old boy work\n",
      "6: god die soul blood burn dead death kill life lord\n",
      "7: babi yeah gonna got girl ain come gotta littl ooh\n",
      "8: nigga like fuck shit got ain bitch caus know money\n",
      "9: sing sky light sun blue star night shine song fli\n"
     ]
    }
   ],
   "source": [
    "for topic_id in range(model.num_topics):\n",
    "    topk = model.show_topic(topic_id, 10)\n",
    "    topk_words = [ w for w, _ in topk ]\n",
    "    \n",
    "    print('{}: {}'.format(topic_id, ' '.join(topk_words)))"
   ]
  },
  {
   "cell_type": "code",
   "execution_count": null,
   "metadata": {},
   "outputs": [],
   "source": [
    "import langdetect\n",
    "from langdetect import detect\n",
    "\n",
    "for index, row in df.iterrows():\n",
    "    try:\n",
    "        if detect(row['lyrics']) != 'en':\n",
    "            df.drop(index, inplace=True)\n",
    "    except:\n",
    "        df.drop(index, inplace=True)"
   ]
  }
 ],
 "metadata": {
  "kernelspec": {
   "display_name": "Python 3",
   "language": "python",
   "name": "python3"
  },
  "language_info": {
   "codemirror_mode": {
    "name": "ipython",
    "version": 3
   },
   "file_extension": ".py",
   "mimetype": "text/x-python",
   "name": "python",
   "nbconvert_exporter": "python",
   "pygments_lexer": "ipython3",
   "version": "3.6.10"
  }
 },
 "nbformat": 4,
 "nbformat_minor": 2
}
